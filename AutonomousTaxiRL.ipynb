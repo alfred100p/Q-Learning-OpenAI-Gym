{
 "cells": [
  {
   "cell_type": "code",
   "execution_count": 23,
   "id": "3a1cf698",
   "metadata": {},
   "outputs": [],
   "source": [
    "#imports\n",
    "import gym\n",
    "import numpy as np\n",
    "import matplotlib.pyplot as plt\n",
    "import random\n",
    "from IPython.display import clear_output"
   ]
  },
  {
   "cell_type": "code",
   "execution_count": null,
   "id": "de50c54e",
   "metadata": {},
   "outputs": [],
   "source": [
    "#general q learning can be applied multiple problems"
   ]
  },
  {
   "cell_type": "code",
   "execution_count": 2,
   "id": "a7961f56",
   "metadata": {},
   "outputs": [],
   "source": [
    "env=gym.make('Taxi-v3')"
   ]
  },
  {
   "cell_type": "code",
   "execution_count": 3,
   "id": "431e9158",
   "metadata": {},
   "outputs": [
    {
     "name": "stdout",
     "output_type": "stream",
     "text": [
      "Episode: 9\n",
      "Score: -758\n"
     ]
    }
   ],
   "source": [
    "episodes=10\n",
    "\n",
    "for episode in range(1,episodes):\n",
    "    state=env.reset()\n",
    "    done=False\n",
    "    score=0\n",
    "    \n",
    "    while not done:\n",
    "        env.render()\n",
    "        state,reward,done,info=env.step(env.action_space.sample())\n",
    "        score+=reward\n",
    "        clear_output(wait=True)\n",
    "    print('Episode: {}\\nScore: {}'.format(episode,score))"
   ]
  },
  {
   "cell_type": "code",
   "execution_count": 4,
   "id": "1c1443fe",
   "metadata": {},
   "outputs": [],
   "source": [
    "actions=env.action_space.n\n",
    "states=env.observation_space.n\n",
    "q_table = np.zeros([states,actions])"
   ]
  },
  {
   "cell_type": "code",
   "execution_count": 26,
   "id": "093af5d3",
   "metadata": {},
   "outputs": [],
   "source": [
    "num_episodes=10000\n",
    "max_steps_per_episode=100\n",
    "\n",
    "learning_rate=0.1\n",
    "discount_rate=0.99\n",
    "\n",
    "exploration_rate=1\n",
    "max_exploration_rate=1\n",
    "min_exploration_rate=0.01\n",
    "exploration_decay_rate=0.001\n",
    "\n",
    "rewards_all_episodes=[]"
   ]
  },
  {
   "cell_type": "code",
   "execution_count": 27,
   "id": "a5e11b1f",
   "metadata": {},
   "outputs": [
    {
     "name": "stdout",
     "output_type": "stream",
     "text": [
      "DONE\n"
     ]
    }
   ],
   "source": [
    "for episode in range(num_episodes):\n",
    "    state=env.reset()\n",
    "    done=False\n",
    "    rewards_current_episode=0\n",
    "    \n",
    "    for step in range(max_steps_per_episode):\n",
    "        exploration_threshold=random.uniform(0,1)\n",
    "        if exploration_threshold> exploration_rate:\n",
    "            action=np.argmax(q_table[state,:])\n",
    "        else:\n",
    "            action=env.action_space.sample()\n",
    "            \n",
    "        new_state, reward, done, info=env.step(action)\n",
    "        \n",
    "        q_table[state,action]= q_table[state,action]*(1-learning_rate)+learning_rate*(reward+discount_rate*np.max(q_table[new_state,:]))\n",
    "        \n",
    "        state=new_state\n",
    "        rewards_current_episode+=reward\n",
    "        \n",
    "        if done==True:\n",
    "            break\n",
    "            \n",
    "    exploration_rate=min_exploration_rate+(max_exploration_rate-min_exploration_rate)*np.exp(-exploration_decay_rate*episode)\n",
    "    rewards_all_episodes.append(rewards_current_episode)\n",
    "print(\"DONE\")\n",
    "        "
   ]
  },
  {
   "cell_type": "code",
   "execution_count": 28,
   "id": "e97be45c",
   "metadata": {},
   "outputs": [
    {
     "data": {
      "text/plain": [
       "array([[ 0.        ,  0.        ,  0.        ,  0.        ,  0.        ,\n",
       "         0.        ],\n",
       "       [ 7.44028243,  8.52562975,  7.4401363 ,  8.52562594,  9.6220697 ,\n",
       "        -0.47431335],\n",
       "       [11.84717503, 12.97712615, 11.84687395, 12.97695088, 14.11880599,\n",
       "         3.97670107],\n",
       "       ...,\n",
       "       [14.11877778, 15.2715212 , 14.11878225, 12.97757788,  5.11876598,\n",
       "         5.11874432],\n",
       "       [ 9.6162004 , 10.7271578 ,  9.61561859, 10.72475366,  0.61566755,\n",
       "         0.61597713],\n",
       "       [17.609368  , 16.43443295, 17.61067383, 18.79999061,  8.6102404 ,\n",
       "         8.61123526]])"
      ]
     },
     "execution_count": 28,
     "metadata": {},
     "output_type": "execute_result"
    }
   ],
   "source": [
    "q_table"
   ]
  },
  {
   "cell_type": "code",
   "execution_count": 29,
   "id": "951e1e7d",
   "metadata": {},
   "outputs": [
    {
     "name": "stdout",
     "output_type": "stream",
     "text": [
      "Average per thousand epsidoes\n",
      "1000 : -135.2070000000002\n",
      "2000 : -9.027999999999992\n",
      "3000 : 2.6719999999999926\n",
      "4000 : 5.580999999999968\n",
      "5000 : 6.668999999999971\n",
      "6000 : 7.081999999999964\n",
      "7000 : 7.365999999999968\n",
      "8000 : 7.48999999999996\n",
      "9000 : 7.484999999999954\n",
      "10000 : 7.485999999999968\n"
     ]
    }
   ],
   "source": [
    "rewards_per_thousand_episodes=np.split(np.array(rewards_all_episodes),num_episodes/1000)\n",
    "count=1000\n",
    "\n",
    "print('Average per thousand epsidoes')\n",
    "for r in rewards_per_thousand_episodes:\n",
    "    print(count,\":\",str(sum(r/1000)))\n",
    "    count+=1000"
   ]
  },
  {
   "cell_type": "code",
   "execution_count": 33,
   "id": "60b218c2",
   "metadata": {},
   "outputs": [
    {
     "name": "stdout",
     "output_type": "stream",
     "text": [
      "fail\n",
      "20\n"
     ]
    }
   ],
   "source": [
    "import time\n",
    "for episode in range(3):\n",
    "    state=env.reset()\n",
    "    done=False\n",
    "    print('EPisode:',episode)\n",
    "    for step in range(max_steps_per_episode):\n",
    "        clear_output(wait=True)\n",
    "        env.render()\n",
    "        time.sleep(0.3)\n",
    "        \n",
    "        action=np.argmax(q_table[state,:])\n",
    "        \n",
    "        new_state,reward,done,info=env.step(action)\n",
    "        \n",
    "        if done:\n",
    "            clear_output(wait=True)\n",
    "            if reward==1:\n",
    "                print('success')\n",
    "                time.sleep(2)\n",
    "                clear_output(wait=True)\n",
    "            \n",
    "            else:\n",
    "                print('fail')\n",
    "                print(reward)\n",
    "                time.sleep(2)\n",
    "                \n",
    "                clear_output(wait=True)\n",
    "                \n",
    "                \n",
    "            break\n",
    "            \n",
    "        state=new_state\n",
    "        \n",
    "env.close()"
   ]
  },
  {
   "cell_type": "code",
   "execution_count": null,
   "id": "dae203aa",
   "metadata": {},
   "outputs": [],
   "source": []
  }
 ],
 "metadata": {
  "kernelspec": {
   "display_name": "Python 3",
   "language": "python",
   "name": "python3"
  },
  "language_info": {
   "codemirror_mode": {
    "name": "ipython",
    "version": 3
   },
   "file_extension": ".py",
   "mimetype": "text/x-python",
   "name": "python",
   "nbconvert_exporter": "python",
   "pygments_lexer": "ipython3",
   "version": "3.6.13"
  }
 },
 "nbformat": 4,
 "nbformat_minor": 5
}
